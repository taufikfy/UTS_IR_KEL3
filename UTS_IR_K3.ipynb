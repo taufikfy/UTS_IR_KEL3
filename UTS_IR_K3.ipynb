{
  "nbformat": 4,
  "nbformat_minor": 0,
  "metadata": {
    "colab": {
      "provenance": [],
      "authorship_tag": "ABX9TyMwAb02AnqOE+538fBXjZd2",
      "include_colab_link": true
    },
    "kernelspec": {
      "name": "python3",
      "display_name": "Python 3"
    },
    "language_info": {
      "name": "python"
    }
  },
  "cells": [
    {
      "cell_type": "markdown",
      "metadata": {
        "id": "view-in-github",
        "colab_type": "text"
      },
      "source": [
        "<a href=\"https://colab.research.google.com/github/taufikfy/UTS_IR_KEL3/blob/master/UTS_IR_K3.ipynb\" target=\"_parent\"><img src=\"https://colab.research.google.com/assets/colab-badge.svg\" alt=\"Open In Colab\"/></a>"
      ]
    },
    {
      "cell_type": "markdown",
      "source": [
        "## **Import Library**"
      ],
      "metadata": {
        "id": "KgJT8SYklx-m"
      }
    },
    {
      "cell_type": "code",
      "execution_count": null,
      "metadata": {
        "colab": {
          "base_uri": "https://localhost:8080/"
        },
        "id": "fOSZXYvcX3MJ",
        "outputId": "9a777a24-7d1b-4897-96bf-0c1d5ce06b11"
      },
      "outputs": [
        {
          "output_type": "stream",
          "name": "stderr",
          "text": [
            "[nltk_data] Downloading package punkt to /root/nltk_data...\n",
            "[nltk_data]   Package punkt is already up-to-date!\n",
            "[nltk_data] Downloading package stopwords to /root/nltk_data...\n",
            "[nltk_data]   Package stopwords is already up-to-date!\n",
            "[nltk_data] Downloading package wordnet to /root/nltk_data...\n",
            "[nltk_data]   Package wordnet is already up-to-date!\n",
            "[nltk_data] Downloading package punkt_tab to /root/nltk_data...\n",
            "[nltk_data]   Package punkt_tab is already up-to-date!\n"
          ]
        },
        {
          "output_type": "execute_result",
          "data": {
            "text/plain": [
              "True"
            ]
          },
          "metadata": {},
          "execution_count": 2
        }
      ],
      "source": [
        "!pip install transformers --quiet\n",
        "\n",
        "import pandas as pd\n",
        "import re\n",
        "import string\n",
        "import nltk\n",
        "import torch\n",
        "\n",
        "from transformers import BertTokenizer, BertModel\n",
        "from nltk.tokenize import word_tokenize\n",
        "from nltk.corpus import stopwords\n",
        "from nltk.stem import WordNetLemmatizer\n",
        "from sklearn.feature_extraction.text import CountVectorizer\n",
        "from sklearn.linear_model import LogisticRegression\n",
        "from sklearn.model_selection import train_test_split\n",
        "from sklearn.metrics import classification_report, accuracy_score\n",
        "from sklearn.feature_extraction.text import TfidfVectorizer\n",
        "\n",
        "nltk.download('punkt')\n",
        "nltk.download('stopwords')\n",
        "nltk.download('wordnet')\n",
        "nltk.download('punkt_tab')"
      ]
    },
    {
      "cell_type": "markdown",
      "source": [
        "## **Load Dataset True & Fake**"
      ],
      "metadata": {
        "id": "g0ciwnv2l5U1"
      }
    },
    {
      "cell_type": "code",
      "source": [
        "# Load data\n",
        "true_df = pd.read_csv('/content/True.csv')\n",
        "fake_df = pd.read_csv('/content/Fake.csv')\n",
        "true_df['label'] = 1\n",
        "fake_df['label'] = 0\n",
        "df = pd.concat([true_df, fake_df], ignore_index=True)\n",
        "df = df[['title', 'text', 'label']]\n",
        "df.dropna(inplace=True)\n",
        "\n",
        "print(df['label'].value_counts())\n",
        "df.head()"
      ],
      "metadata": {
        "colab": {
          "base_uri": "https://localhost:8080/",
          "height": 362
        },
        "id": "FkYo4Y3fYshD",
        "outputId": "efd7421c-6ece-434b-cfee-802ea18e1f81"
      },
      "execution_count": null,
      "outputs": [
        {
          "output_type": "stream",
          "name": "stdout",
          "text": [
            "label\n",
            "0    23481\n",
            "1    21417\n",
            "Name: count, dtype: int64\n"
          ]
        },
        {
          "output_type": "execute_result",
          "data": {
            "text/plain": [
              "                                               title  \\\n",
              "0  As U.S. budget fight looms, Republicans flip t...   \n",
              "1  U.S. military to accept transgender recruits o...   \n",
              "2  Senior U.S. Republican senator: 'Let Mr. Muell...   \n",
              "3  FBI Russia probe helped by Australian diplomat...   \n",
              "4  Trump wants Postal Service to charge 'much mor...   \n",
              "\n",
              "                                                text  label  \n",
              "0  WASHINGTON (Reuters) - The head of a conservat...      1  \n",
              "1  WASHINGTON (Reuters) - Transgender people will...      1  \n",
              "2  WASHINGTON (Reuters) - The special counsel inv...      1  \n",
              "3  WASHINGTON (Reuters) - Trump campaign adviser ...      1  \n",
              "4  SEATTLE/WASHINGTON (Reuters) - President Donal...      1  "
            ],
            "text/html": [
              "\n",
              "  <div id=\"df-988930ca-21f1-4fc1-b9ca-8652f54689d8\" class=\"colab-df-container\">\n",
              "    <div>\n",
              "<style scoped>\n",
              "    .dataframe tbody tr th:only-of-type {\n",
              "        vertical-align: middle;\n",
              "    }\n",
              "\n",
              "    .dataframe tbody tr th {\n",
              "        vertical-align: top;\n",
              "    }\n",
              "\n",
              "    .dataframe thead th {\n",
              "        text-align: right;\n",
              "    }\n",
              "</style>\n",
              "<table border=\"1\" class=\"dataframe\">\n",
              "  <thead>\n",
              "    <tr style=\"text-align: right;\">\n",
              "      <th></th>\n",
              "      <th>title</th>\n",
              "      <th>text</th>\n",
              "      <th>label</th>\n",
              "    </tr>\n",
              "  </thead>\n",
              "  <tbody>\n",
              "    <tr>\n",
              "      <th>0</th>\n",
              "      <td>As U.S. budget fight looms, Republicans flip t...</td>\n",
              "      <td>WASHINGTON (Reuters) - The head of a conservat...</td>\n",
              "      <td>1</td>\n",
              "    </tr>\n",
              "    <tr>\n",
              "      <th>1</th>\n",
              "      <td>U.S. military to accept transgender recruits o...</td>\n",
              "      <td>WASHINGTON (Reuters) - Transgender people will...</td>\n",
              "      <td>1</td>\n",
              "    </tr>\n",
              "    <tr>\n",
              "      <th>2</th>\n",
              "      <td>Senior U.S. Republican senator: 'Let Mr. Muell...</td>\n",
              "      <td>WASHINGTON (Reuters) - The special counsel inv...</td>\n",
              "      <td>1</td>\n",
              "    </tr>\n",
              "    <tr>\n",
              "      <th>3</th>\n",
              "      <td>FBI Russia probe helped by Australian diplomat...</td>\n",
              "      <td>WASHINGTON (Reuters) - Trump campaign adviser ...</td>\n",
              "      <td>1</td>\n",
              "    </tr>\n",
              "    <tr>\n",
              "      <th>4</th>\n",
              "      <td>Trump wants Postal Service to charge 'much mor...</td>\n",
              "      <td>SEATTLE/WASHINGTON (Reuters) - President Donal...</td>\n",
              "      <td>1</td>\n",
              "    </tr>\n",
              "  </tbody>\n",
              "</table>\n",
              "</div>\n",
              "    <div class=\"colab-df-buttons\">\n",
              "\n",
              "  <div class=\"colab-df-container\">\n",
              "    <button class=\"colab-df-convert\" onclick=\"convertToInteractive('df-988930ca-21f1-4fc1-b9ca-8652f54689d8')\"\n",
              "            title=\"Convert this dataframe to an interactive table.\"\n",
              "            style=\"display:none;\">\n",
              "\n",
              "  <svg xmlns=\"http://www.w3.org/2000/svg\" height=\"24px\" viewBox=\"0 -960 960 960\">\n",
              "    <path d=\"M120-120v-720h720v720H120Zm60-500h600v-160H180v160Zm220 220h160v-160H400v160Zm0 220h160v-160H400v160ZM180-400h160v-160H180v160Zm440 0h160v-160H620v160ZM180-180h160v-160H180v160Zm440 0h160v-160H620v160Z\"/>\n",
              "  </svg>\n",
              "    </button>\n",
              "\n",
              "  <style>\n",
              "    .colab-df-container {\n",
              "      display:flex;\n",
              "      gap: 12px;\n",
              "    }\n",
              "\n",
              "    .colab-df-convert {\n",
              "      background-color: #E8F0FE;\n",
              "      border: none;\n",
              "      border-radius: 50%;\n",
              "      cursor: pointer;\n",
              "      display: none;\n",
              "      fill: #1967D2;\n",
              "      height: 32px;\n",
              "      padding: 0 0 0 0;\n",
              "      width: 32px;\n",
              "    }\n",
              "\n",
              "    .colab-df-convert:hover {\n",
              "      background-color: #E2EBFA;\n",
              "      box-shadow: 0px 1px 2px rgba(60, 64, 67, 0.3), 0px 1px 3px 1px rgba(60, 64, 67, 0.15);\n",
              "      fill: #174EA6;\n",
              "    }\n",
              "\n",
              "    .colab-df-buttons div {\n",
              "      margin-bottom: 4px;\n",
              "    }\n",
              "\n",
              "    [theme=dark] .colab-df-convert {\n",
              "      background-color: #3B4455;\n",
              "      fill: #D2E3FC;\n",
              "    }\n",
              "\n",
              "    [theme=dark] .colab-df-convert:hover {\n",
              "      background-color: #434B5C;\n",
              "      box-shadow: 0px 1px 3px 1px rgba(0, 0, 0, 0.15);\n",
              "      filter: drop-shadow(0px 1px 2px rgba(0, 0, 0, 0.3));\n",
              "      fill: #FFFFFF;\n",
              "    }\n",
              "  </style>\n",
              "\n",
              "    <script>\n",
              "      const buttonEl =\n",
              "        document.querySelector('#df-988930ca-21f1-4fc1-b9ca-8652f54689d8 button.colab-df-convert');\n",
              "      buttonEl.style.display =\n",
              "        google.colab.kernel.accessAllowed ? 'block' : 'none';\n",
              "\n",
              "      async function convertToInteractive(key) {\n",
              "        const element = document.querySelector('#df-988930ca-21f1-4fc1-b9ca-8652f54689d8');\n",
              "        const dataTable =\n",
              "          await google.colab.kernel.invokeFunction('convertToInteractive',\n",
              "                                                    [key], {});\n",
              "        if (!dataTable) return;\n",
              "\n",
              "        const docLinkHtml = 'Like what you see? Visit the ' +\n",
              "          '<a target=\"_blank\" href=https://colab.research.google.com/notebooks/data_table.ipynb>data table notebook</a>'\n",
              "          + ' to learn more about interactive tables.';\n",
              "        element.innerHTML = '';\n",
              "        dataTable['output_type'] = 'display_data';\n",
              "        await google.colab.output.renderOutput(dataTable, element);\n",
              "        const docLink = document.createElement('div');\n",
              "        docLink.innerHTML = docLinkHtml;\n",
              "        element.appendChild(docLink);\n",
              "      }\n",
              "    </script>\n",
              "  </div>\n",
              "\n",
              "\n",
              "    <div id=\"df-a5853337-351d-499f-bfb7-d1ffc377667a\">\n",
              "      <button class=\"colab-df-quickchart\" onclick=\"quickchart('df-a5853337-351d-499f-bfb7-d1ffc377667a')\"\n",
              "                title=\"Suggest charts\"\n",
              "                style=\"display:none;\">\n",
              "\n",
              "<svg xmlns=\"http://www.w3.org/2000/svg\" height=\"24px\"viewBox=\"0 0 24 24\"\n",
              "     width=\"24px\">\n",
              "    <g>\n",
              "        <path d=\"M19 3H5c-1.1 0-2 .9-2 2v14c0 1.1.9 2 2 2h14c1.1 0 2-.9 2-2V5c0-1.1-.9-2-2-2zM9 17H7v-7h2v7zm4 0h-2V7h2v10zm4 0h-2v-4h2v4z\"/>\n",
              "    </g>\n",
              "</svg>\n",
              "      </button>\n",
              "\n",
              "<style>\n",
              "  .colab-df-quickchart {\n",
              "      --bg-color: #E8F0FE;\n",
              "      --fill-color: #1967D2;\n",
              "      --hover-bg-color: #E2EBFA;\n",
              "      --hover-fill-color: #174EA6;\n",
              "      --disabled-fill-color: #AAA;\n",
              "      --disabled-bg-color: #DDD;\n",
              "  }\n",
              "\n",
              "  [theme=dark] .colab-df-quickchart {\n",
              "      --bg-color: #3B4455;\n",
              "      --fill-color: #D2E3FC;\n",
              "      --hover-bg-color: #434B5C;\n",
              "      --hover-fill-color: #FFFFFF;\n",
              "      --disabled-bg-color: #3B4455;\n",
              "      --disabled-fill-color: #666;\n",
              "  }\n",
              "\n",
              "  .colab-df-quickchart {\n",
              "    background-color: var(--bg-color);\n",
              "    border: none;\n",
              "    border-radius: 50%;\n",
              "    cursor: pointer;\n",
              "    display: none;\n",
              "    fill: var(--fill-color);\n",
              "    height: 32px;\n",
              "    padding: 0;\n",
              "    width: 32px;\n",
              "  }\n",
              "\n",
              "  .colab-df-quickchart:hover {\n",
              "    background-color: var(--hover-bg-color);\n",
              "    box-shadow: 0 1px 2px rgba(60, 64, 67, 0.3), 0 1px 3px 1px rgba(60, 64, 67, 0.15);\n",
              "    fill: var(--button-hover-fill-color);\n",
              "  }\n",
              "\n",
              "  .colab-df-quickchart-complete:disabled,\n",
              "  .colab-df-quickchart-complete:disabled:hover {\n",
              "    background-color: var(--disabled-bg-color);\n",
              "    fill: var(--disabled-fill-color);\n",
              "    box-shadow: none;\n",
              "  }\n",
              "\n",
              "  .colab-df-spinner {\n",
              "    border: 2px solid var(--fill-color);\n",
              "    border-color: transparent;\n",
              "    border-bottom-color: var(--fill-color);\n",
              "    animation:\n",
              "      spin 1s steps(1) infinite;\n",
              "  }\n",
              "\n",
              "  @keyframes spin {\n",
              "    0% {\n",
              "      border-color: transparent;\n",
              "      border-bottom-color: var(--fill-color);\n",
              "      border-left-color: var(--fill-color);\n",
              "    }\n",
              "    20% {\n",
              "      border-color: transparent;\n",
              "      border-left-color: var(--fill-color);\n",
              "      border-top-color: var(--fill-color);\n",
              "    }\n",
              "    30% {\n",
              "      border-color: transparent;\n",
              "      border-left-color: var(--fill-color);\n",
              "      border-top-color: var(--fill-color);\n",
              "      border-right-color: var(--fill-color);\n",
              "    }\n",
              "    40% {\n",
              "      border-color: transparent;\n",
              "      border-right-color: var(--fill-color);\n",
              "      border-top-color: var(--fill-color);\n",
              "    }\n",
              "    60% {\n",
              "      border-color: transparent;\n",
              "      border-right-color: var(--fill-color);\n",
              "    }\n",
              "    80% {\n",
              "      border-color: transparent;\n",
              "      border-right-color: var(--fill-color);\n",
              "      border-bottom-color: var(--fill-color);\n",
              "    }\n",
              "    90% {\n",
              "      border-color: transparent;\n",
              "      border-bottom-color: var(--fill-color);\n",
              "    }\n",
              "  }\n",
              "</style>\n",
              "\n",
              "      <script>\n",
              "        async function quickchart(key) {\n",
              "          const quickchartButtonEl =\n",
              "            document.querySelector('#' + key + ' button');\n",
              "          quickchartButtonEl.disabled = true;  // To prevent multiple clicks.\n",
              "          quickchartButtonEl.classList.add('colab-df-spinner');\n",
              "          try {\n",
              "            const charts = await google.colab.kernel.invokeFunction(\n",
              "                'suggestCharts', [key], {});\n",
              "          } catch (error) {\n",
              "            console.error('Error during call to suggestCharts:', error);\n",
              "          }\n",
              "          quickchartButtonEl.classList.remove('colab-df-spinner');\n",
              "          quickchartButtonEl.classList.add('colab-df-quickchart-complete');\n",
              "        }\n",
              "        (() => {\n",
              "          let quickchartButtonEl =\n",
              "            document.querySelector('#df-a5853337-351d-499f-bfb7-d1ffc377667a button');\n",
              "          quickchartButtonEl.style.display =\n",
              "            google.colab.kernel.accessAllowed ? 'block' : 'none';\n",
              "        })();\n",
              "      </script>\n",
              "    </div>\n",
              "\n",
              "    </div>\n",
              "  </div>\n"
            ],
            "application/vnd.google.colaboratory.intrinsic+json": {
              "type": "dataframe",
              "variable_name": "df",
              "summary": "{\n  \"name\": \"df\",\n  \"rows\": 44898,\n  \"fields\": [\n    {\n      \"column\": \"title\",\n      \"properties\": {\n        \"dtype\": \"string\",\n        \"num_unique_values\": 38729,\n        \"samples\": [\n          \" TransCanada Officially Files $15 Billion Lawsuit Against U.S. For Rejecting KXL Pipline\",\n          \"Trump accuses Mexico's Carlos Slim of trying to help Clinton\",\n          \"White House defends portrayal of 'armada' push toward Korean peninsula\"\n        ],\n        \"semantic_type\": \"\",\n        \"description\": \"\"\n      }\n    },\n    {\n      \"column\": \"text\",\n      \"properties\": {\n        \"dtype\": \"string\",\n        \"num_unique_values\": 38646,\n        \"samples\": [\n          \"Here s the fake black guy, Shaun King weighing in on how awesome it is that Bernie Sanders can now come out of the socialist closet. Because America is soooo ready (or so Shaun thinks anyhow) to embrace a socialist. Here is his tweet:#1.https://twitter.com/ShaunKing/status/654100720929632256Here is a great question from the Janie Johnson:#2.The bottom 49% of earners pay zero taxes   how much more  fair  do you want the tax system? #DemDebate  Janie Johnson (@jjauthor) October 14, 2015Truth!#3.https://twitter.com/weknowwhatsbest/status/654128633385107456And this tweet is priceless:#4.https://twitter.com/weknowwhatsbest/status/654128132295802880Some race baiters were not satisfied that enough divisive questions were posed to the candidates. How much time exactly should we giving to the issue of race during our presidential debates? Would 50% of the debate time be acceptable to the #BlackLivesMatter terrorists?The first is from #BLM activist and George Soros favorite, Deray McKesson:#5..@AndersonCooper, you were strong tonight, though I hope there are more questions about race at the next debate. #DemDebate  deray mckesson (@deray) October 14, 2015Next is from the fake black guy, Shaun King who bemoans the lack of diversity on the debate stage:#6 and #7https://twitter.com/ShaunKing/status/654095075069296640https://twitter.com/ShaunKing/status/654113225005510656And then we have the self proclaimed  Trump girls,  Diamond and Silk weighing in on the debate hilarious!#8.We out. This is not a debate. This is a disgrace. Hope .@realDonaldTrump come to save the day. #stump4trumpbaby pic.twitter.com/I1CcLL31lX  Diamond and Silk  (@DiamondandSilk) October 14, 2015Best tweet of the night goes to the Donald:#9\\\"@releafpen: Dem debate message summary = More free handouts. They will be voting in droves. We need to get out and vote Trump BIG TIME!\\\"  Donald J. Trump (@realDonaldTrump) October 14, 2015And the runners-up are Two from conservative actor James Woods:#10.Thank God money grows on trees. This bunch has no allergy to spending it. Free college not only for Americans, but anybody from anywhere  James Woods (@RealJamesWoods) October 14, 2015We actually fibbed, there are 12 favorite tweets. We save 2 of our favorites from @iowahawk for last:I got 10 bucks that more people are following the debate on Trump's Twitter feed than on CNN  David Burge (@iowahawkblog) October 14, 2015How to make college affordable: don't go  David Burge (@iowahawkblog) October 14, 2015 \",\n          \"While Trump s Secretary of State was visiting a UN base on the border of North and South Korea on Friday, the former CEO of Exxon Mobil Corp. was photographed by a Reuters photographer, while at the same time, a North Korean soldier is seen photographing the top Diplomat covertly from the outside of a window. You can t make this stuff up. And now the picture is circulating on social media.In the image, a North Korean soldier can be seen on the right-hand corner of the picture peering in through a window and photographing Tillerson and a US Army general, Business Insider reports.The photo was taken inside the Demilitarized Zone (DMZ), which was created after the Korean War on what is now the most heavily armed border in the world, and obviously the most spied upon.NBC reporter Brad Jaffy tweeted out a version of the photo, which he zoomed in on, calling it  Rear Window. Rear Window: North Korean soldier takes a photo of Rex Tillerson at the DMZ pic.twitter.com/EHCIR3Fjo6  Bradd Jaffy (@BraddJaffy) March 17, 2017The original photo can be seen here.Tillerson announced on Friday at a news conference in Seoul that military action against North Korea is  an option  if the threat from its nuclear weapons program rises to a level  that we believe requires action. Tillerson told reporters that  all of the options are on the table. According to the Korea Herald, Tillerson cut his recent visit short with South Korean officials due to  fatigue. The newspaper reported that Tillerson did not have lunch or dinner with South Korean Foreign Minister Yun Byung-se and acting President and Prime Minister Hwang Kyo-ahn during his visit there.Tillerson spent several hours meeting with Japanese officials, which included dinner meetings, the paper noted, according to The Hill.The secretary of State reportedly did hold talks with both South Korean officials regarding the threat posed by North Korea s nuclear program.And that must have been before  fatigue  set in. On Twitter, Trump said that North Korea was  behaving very badly. South Korea s Constitutional Court upheld the impeachment of former President Park Geun-hye in March over a corruption scandal. In contrast, the U.S. has failed to address its newly minted president s growing list of scandals. Tillerson, too, has his own scandal to deal with.As for the North Korean soldier spying on Tillerson, perhaps if he wore spy glasses and a fake mustache no one would have noticed. The soldier has better access to the Secretary of State than U.S. reporters do.Photo by Alex Wong/Getty Images.\",\n          \"Join Patrick every week here at 21WIRE.TV for news, views and analysis on all top stories domestically and abroad THIS WEEK: Episode 4 The New World Order  Did Great Britain regain control of its former American colonies by stealth? From Cecil Rhodes and his Round Table, to H.G. Wells, to Henry Kissinger and Zbigniew Brzezinski   many have worked to steer the world beyond the modern nation state and into Technetronic Era of global government. But to what end?Host Patrick Henningsen talks to Sean Stone, author of the new book, New World Order: A Strategy for Imperialism. Listen:   END 927 Download Link  START 999 Download Link Download this podcast  END 999 Download Link This program broadcasts LIVE every Wednesday night from 8pm to 9pm MST, right after the Savage Nation, on Independent Talk 1100 KFNX over the terrestrial AM band across the greater Phoenix and central Arizona region, and live over global satellite and online via www.1100kfnx.com.READ MORE NWO NEWS AT: 21st Century Wire NWO Files\"\n        ],\n        \"semantic_type\": \"\",\n        \"description\": \"\"\n      }\n    },\n    {\n      \"column\": \"label\",\n      \"properties\": {\n        \"dtype\": \"number\",\n        \"std\": 0,\n        \"min\": 0,\n        \"max\": 1,\n        \"num_unique_values\": 2,\n        \"samples\": [\n          0,\n          1\n        ],\n        \"semantic_type\": \"\",\n        \"description\": \"\"\n      }\n    }\n  ]\n}"
            }
          },
          "metadata": {},
          "execution_count": 3
        }
      ]
    },
    {
      "cell_type": "markdown",
      "source": [
        "## **Pra-pemrosesan Teks**"
      ],
      "metadata": {
        "id": "bjGbYhsgmSWA"
      }
    },
    {
      "cell_type": "code",
      "source": [
        "# Cleaning\n",
        "stop_words = set(stopwords.words('english'))\n",
        "lemmatizer = WordNetLemmatizer()\n",
        "def clean_text(text):\n",
        "    text = text.lower()\n",
        "    text = re.sub(r'<.*?>', ' ', text)\n",
        "    text = text.translate(str.maketrans('', '', string.punctuation))\n",
        "    text = re.sub(r'\\d+', '', text)\n",
        "    tokens = word_tokenize(text)\n",
        "    tokens = [lemmatizer.lemmatize(w) for w in tokens if w not in stop_words]\n",
        "    return ' '.join(tokens)\n",
        "\n",
        "df['clean'] = df['text'].apply(clean_text)"
      ],
      "metadata": {
        "id": "C18MJs4VZLlM"
      },
      "execution_count": null,
      "outputs": []
    },
    {
      "cell_type": "markdown",
      "source": [
        "## **Representasi Teks**"
      ],
      "metadata": {
        "id": "0-pFJeAPmby1"
      }
    },
    {
      "cell_type": "markdown",
      "source": [
        "**BoW (Bag of Words)**"
      ],
      "metadata": {
        "id": "rw2iUId6b9Os"
      }
    },
    {
      "cell_type": "code",
      "source": [
        "# BoW Vectorization\n",
        "vectorizer = CountVectorizer()\n",
        "X_bow = vectorizer.fit_transform(df['clean'])\n",
        "y = df['label']\n",
        "\n",
        "# Split & Train\n",
        "X_train, X_test, y_train, y_test = train_test_split(X_bow, y, test_size=0.2, random_state=42)\n",
        "model = LogisticRegression(max_iter=1000)\n",
        "model.fit(X_train, y_train)\n",
        "y_pred = model.predict(X_test)\n",
        "\n",
        "# Evaluation\n",
        "print(\"=== [BoW] ===\")\n",
        "print(\"Accuracy:\", accuracy_score(y_test, y_pred))\n",
        "print(classification_report(y_test, y_pred))"
      ],
      "metadata": {
        "colab": {
          "base_uri": "https://localhost:8080/"
        },
        "id": "Gr28L39VankD",
        "outputId": "d2ff20c8-0f9b-45f1-92a3-3fea5ac6d41a"
      },
      "execution_count": null,
      "outputs": [
        {
          "output_type": "stream",
          "name": "stdout",
          "text": [
            "=== [BoW] ===\n",
            "Accuracy: 0.9953229398663697\n",
            "              precision    recall  f1-score   support\n",
            "\n",
            "           0       1.00      0.99      1.00      4650\n",
            "           1       0.99      1.00      1.00      4330\n",
            "\n",
            "    accuracy                           1.00      8980\n",
            "   macro avg       1.00      1.00      1.00      8980\n",
            "weighted avg       1.00      1.00      1.00      8980\n",
            "\n"
          ]
        }
      ]
    },
    {
      "cell_type": "markdown",
      "source": [
        "**TF-IDF REPRESENTATION**"
      ],
      "metadata": {
        "id": "izsp2m8KbxX0"
      }
    },
    {
      "cell_type": "code",
      "source": [
        "# Gunakan kembali df dan df['clean'] dari BoW\n",
        "vectorizer = TfidfVectorizer()\n",
        "X_tfidf = vectorizer.fit_transform(df['clean'])\n",
        "y = df['label']\n",
        "\n",
        "# Split & Train\n",
        "X_train, X_test, y_train, y_test = train_test_split(X_tfidf, y, test_size=0.2, random_state=42)\n",
        "model = LogisticRegression(max_iter=1000)\n",
        "model.fit(X_train, y_train)\n",
        "y_pred = model.predict(X_test)\n",
        "\n",
        "# Evaluation\n",
        "print(\"=== [TF-IDF] ===\")\n",
        "print(\"Accuracy:\", accuracy_score(y_test, y_pred))\n",
        "print(classification_report(y_test, y_pred))\n"
      ],
      "metadata": {
        "colab": {
          "base_uri": "https://localhost:8080/"
        },
        "id": "coPM21Z0bdbM",
        "outputId": "de61e26d-dad1-45d8-fe9c-2b68add362c1"
      },
      "execution_count": null,
      "outputs": [
        {
          "output_type": "stream",
          "name": "stdout",
          "text": [
            "=== [TF-IDF] ===\n",
            "Accuracy: 0.9865256124721603\n",
            "              precision    recall  f1-score   support\n",
            "\n",
            "           0       0.99      0.98      0.99      4650\n",
            "           1       0.98      0.99      0.99      4330\n",
            "\n",
            "    accuracy                           0.99      8980\n",
            "   macro avg       0.99      0.99      0.99      8980\n",
            "weighted avg       0.99      0.99      0.99      8980\n",
            "\n"
          ]
        }
      ]
    },
    {
      "cell_type": "markdown",
      "source": [
        "**BERT(Bidirectional Encoder Transformer)**"
      ],
      "metadata": {
        "id": "KYbmyorwcGdm"
      }
    },
    {
      "cell_type": "code",
      "source": [
        "# Hapus HTML/karakter aneh saja\n",
        "def clean_for_bert(text):\n",
        "    return re.sub(r'<.*?>', ' ', text).strip()\n",
        "\n",
        "df['clean_bert'] = df['text'].apply(clean_for_bert)\n",
        "\n",
        "# BERT tokenizer\n",
        "tokenizer = BertTokenizer.from_pretrained('bert-base-uncased')\n",
        "model = BertModel.from_pretrained('bert-base-uncased')\n",
        "\n",
        "# Batasi untuk efisiensi\n",
        "MAX_BERT = 100  # atau 200 jika GPU cukup\n",
        "\n",
        "# Sample the dataframe randomly to ensure both classes are present\n",
        "df_sampled = df.sample(n=MAX_BERT, random_state=42)\n",
        "\n",
        "texts = df_sampled['clean_bert'].tolist()\n",
        "labels = df_sampled['label'].tolist()\n",
        "\n",
        "# Tokenisasi\n",
        "inputs = tokenizer(texts, return_tensors='pt', padding=True, truncation=True, max_length=512)\n",
        "\n",
        "# Extract CLS embeddings\n",
        "with torch.no_grad():\n",
        "    outputs = model(**inputs)\n",
        "    X_bert = outputs.last_hidden_state[:, 0, :].numpy()\n",
        "\n",
        "# Train/Test split\n",
        "from sklearn.linear_model import LogisticRegression\n",
        "X_train, X_test, y_train, y_test = train_test_split(X_bert, labels, test_size=0.2, random_state=42)\n",
        "\n",
        "model = LogisticRegression(max_iter=1000)\n",
        "model.fit(X_train, y_train)\n",
        "y_pred = model.predict(X_test)\n",
        "\n",
        "# Evaluation\n",
        "print(\"=== [BERT] ===\")\n",
        "print(\"Accuracy:\", accuracy_score(y_test, y_pred))\n",
        "print(classification_report(y_test, y_pred))"
      ],
      "metadata": {
        "colab": {
          "base_uri": "https://localhost:8080/"
        },
        "id": "JEAPOxKBcT6Q",
        "outputId": "fa7225a4-66b2-4e78-c3f1-3b80fe330d0e"
      },
      "execution_count": null,
      "outputs": [
        {
          "output_type": "stream",
          "name": "stderr",
          "text": [
            "/usr/local/lib/python3.11/dist-packages/huggingface_hub/utils/_auth.py:94: UserWarning: \n",
            "The secret `HF_TOKEN` does not exist in your Colab secrets.\n",
            "To authenticate with the Hugging Face Hub, create a token in your settings tab (https://huggingface.co/settings/tokens), set it as secret in your Google Colab and restart your session.\n",
            "You will be able to reuse this secret in all of your notebooks.\n",
            "Please note that authentication is recommended but still optional to access public models or datasets.\n",
            "  warnings.warn(\n"
          ]
        },
        {
          "output_type": "stream",
          "name": "stdout",
          "text": [
            "=== [BERT] ===\n",
            "Accuracy: 0.95\n",
            "              precision    recall  f1-score   support\n",
            "\n",
            "           0       1.00      0.93      0.96        14\n",
            "           1       0.86      1.00      0.92         6\n",
            "\n",
            "    accuracy                           0.95        20\n",
            "   macro avg       0.93      0.96      0.94        20\n",
            "weighted avg       0.96      0.95      0.95        20\n",
            "\n"
          ]
        }
      ]
    },
    {
      "cell_type": "markdown",
      "source": [
        "### **Indexing with Inverted Index**"
      ],
      "metadata": {
        "id": "n0OR6cE4O-20"
      }
    },
    {
      "cell_type": "code",
      "source": [
        "# Inverted Index\n",
        "if 'clean' not in df.columns:\n",
        "    print()\n",
        "else:\n",
        "    # Membuat Indeks Terbalik\n",
        "    inverted_index = {}\n",
        "    for doc_id, text in enumerate(df['clean']):\n",
        "        words = text.split()\n",
        "        for word in words:\n",
        "            if word not in inverted_index:\n",
        "                inverted_index[word] = set()\n",
        "            inverted_index[word].add(doc_id)\n",
        "\n",
        "    # Contoh cara melakukan pencarian sederhana\n",
        "    def search(query, index):\n",
        "        query_words = query.lower().split()\n",
        "        # Mulai dengan set dokumen dari kata pertama\n",
        "        if query_words:\n",
        "            # Cari dokumen untuk kata pertama\n",
        "            result_docs = index.get(query_words[0], set())\n",
        "\n",
        "            # Iterasi melalui kata-kata query lainnya dan cari irisan set dokumen\n",
        "            for word in query_words[1:]:\n",
        "                if word in index:\n",
        "                    result_docs = result_docs.intersection(index[word])\n",
        "                else:\n",
        "                    # Jika ada kata dalam query yang tidak ada di indeks, tidak ada dokumen yang cocok\n",
        "                    return set()\n",
        "            return sorted(list(result_docs))\n",
        "        else:\n",
        "            return set() # Query kosong, tidak ada hasil\n",
        "\n",
        "    # --- Cara Menggunakan Indeks dan Fungsi Pencarian ---\n",
        "\n",
        "    # Contoh pencarian untuk kata \"election\"\n",
        "    query_example = \"election\"\n",
        "    results_election = search(query_example, inverted_index)\n",
        "    print(f\"Dokumen yang mengandung kata '{query_example}': {results_election[:10]}...\") # Tampilkan 10 hasil pertama\n",
        "\n",
        "    # Contoh pencarian untuk frasa \"donald trump\"\n",
        "    query_example_phrase = \"donald trump\"\n",
        "    results_phrase = search(query_example_phrase, inverted_index)\n",
        "    print(f\"Dokumen yang mengandung frasa '{query_example_phrase}': {results_phrase[:10]}...\") # Tampilkan 10 hasil pertama\n",
        "\n",
        "    # Contoh pencarian untuk kata yang tidak ada\n",
        "    query_example_not_found = \"xyzabc\"\n",
        "    results_not_found = search(query_example_not_found, inverted_index)\n",
        "    print(f\"Dokumen yang mengandung kata '{query_example_not_found}': {results_not_found}\")"
      ],
      "metadata": {
        "colab": {
          "base_uri": "https://localhost:8080/"
        },
        "id": "gjhbkZtjOzHU",
        "outputId": "31697b36-5ae8-4719-e214-bbd7ff96499c"
      },
      "execution_count": null,
      "outputs": [
        {
          "output_type": "stream",
          "name": "stdout",
          "text": [
            "Dokumen yang mengandung kata 'election': [0, 2, 3, 5, 6, 9, 10, 15, 16, 18]...\n",
            "Dokumen yang mengandung frasa 'donald trump': [0, 1, 3, 4, 5, 6, 7, 8, 10, 11]...\n",
            "Dokumen yang mengandung kata 'xyzabc': []\n"
          ]
        }
      ]
    },
    {
      "cell_type": "markdown",
      "source": [
        "### **Analisis Hasil Representasi Teks**"
      ],
      "metadata": {
        "id": "T2AZXxQ5S08E"
      }
    },
    {
      "cell_type": "markdown",
      "source": [
        "**1. BoW (Bag of Words)**"
      ],
      "metadata": {
        "id": "aZ82Y-X1SLWi"
      }
    },
    {
      "cell_type": "markdown",
      "source": [
        "| Label              | Precision | Recall | F1-Score | Interpretasi                                   |\n",
        "| ------------------ | --------- | ------ | -------- | ---------------------------------------------- |\n",
        "| 0 (Fake)           | 1.00      | 0.99   | 1.00     | Hampir semua berita palsu berhasil dikenali    |\n",
        "| 1 (True)           | 0.99      | 1.00   | 1.00     | Hampir semua berita asli dikenali dengan benar |\n",
        "| **Akurasi**: 0.995 |           |        |          |                                                |\n"
      ],
      "metadata": {
        "id": "BapWI4akR_hC"
      }
    },
    {
      "cell_type": "markdown",
      "source": [
        "Kesimpulan: BoW sangat akurat dan tidak bias terhadap salah satu kelas. Sangat ideal untuk klasifikasi berita asli vs palsu."
      ],
      "metadata": {
        "id": "un_qUsFQS8I0"
      }
    },
    {
      "cell_type": "markdown",
      "source": [
        "**2. TF-IDF**"
      ],
      "metadata": {
        "id": "5Ao_YHgYTAeX"
      }
    },
    {
      "cell_type": "markdown",
      "source": [
        "| Label              | Precision | Recall | F1-Score | Interpretasi                                |\n",
        "| ------------------ | --------- | ------ | -------- | ------------------------------------------- |\n",
        "| 0 (Fake)           | 0.99      | 0.98   | 0.99     | 2% berita palsu gagal dikenali              |\n",
        "| 1 (True)           | 0.98      | 0.99   | 0.99     | 2% berita asli salah prediksi sebagai palsu |\n",
        "| **Akurasi**: 0.986 |           |        |          |                                             |\n"
      ],
      "metadata": {
        "id": "4g37HPpHTEHh"
      }
    },
    {
      "cell_type": "markdown",
      "source": [
        "Kesimpulan: TF-IDF sedikit di bawah BoW, tapi tetap sangat andal dan memiliki generalisasi yang baik."
      ],
      "metadata": {
        "id": "Bx84g6meTIOw"
      }
    },
    {
      "cell_type": "markdown",
      "source": [
        "**3. BERT**"
      ],
      "metadata": {
        "id": "6lvtkhBjTMTS"
      }
    },
    {
      "cell_type": "markdown",
      "source": [
        "| Label                                       | Precision | Recall | F1-Score | Interpretasi                                                         |\n",
        "| ------------------------------------------- | --------- | ------ | -------- | -------------------------------------------------------------------- |\n",
        "| 0 (Fake)                                    | 1.00      | 0.93   | 0.96     | BERT sangat akurat mendeteksi berita palsu, tapi 7% tidak terdeteksi |\n",
        "| 1 (True)                                    | 0.86      | 1.00   | 0.92     | 14% berita asli **salah dikira palsu** → problem serius              |\n",
        "| **Akurasi**: 0.95 (tapi hanya dari 20 data) |           |        |          |                                                                      |\n"
      ],
      "metadata": {
        "id": "ljMd_Ed8TP38"
      }
    },
    {
      "cell_type": "markdown",
      "source": [
        "**🏆 Final Ranking Berdasarkan Akurasi & Konsistensi**"
      ],
      "metadata": {
        "id": "9zNTT8cYTTHu"
      }
    },
    {
      "cell_type": "markdown",
      "source": [
        "| Rank | Model      | Akurasi | Kelebihan                                                               |\n",
        "| ---- | ---------- | ------- | ----------------------------------------------------------------------- |\n",
        "| 🥇 1 | **BoW**    | 99.53%  | Sederhana, cepat, dan akurat untuk klasifikasi                          |\n",
        "| 🥈 2 | **TF-IDF** | 98.65%  | Hampir seimbang, cocok untuk IR klasik                                  |\n",
        "| 🥉 3 | **BERT**   | 95%     | Cocok untuk semantic retrieval, tapi perlu lebih banyak data dan tuning |\n"
      ],
      "metadata": {
        "id": "QTjxVd5ITdga"
      }
    }
  ]
}